{
 "cells": [
  {
   "cell_type": "code",
   "execution_count": 1,
   "id": "06ffc554",
   "metadata": {
    "_cell_guid": "b1076dfc-b9ad-4769-8c92-a6c4dae69d19",
    "_uuid": "8f2839f25d086af736a60e9eeb907d3b93b6e0e5",
    "execution": {
     "iopub.execute_input": "2024-02-05T18:56:29.642641Z",
     "iopub.status.busy": "2024-02-05T18:56:29.642283Z",
     "iopub.status.idle": "2024-02-05T18:56:30.626008Z",
     "shell.execute_reply": "2024-02-05T18:56:30.624569Z"
    },
    "papermill": {
     "duration": 0.995958,
     "end_time": "2024-02-05T18:56:30.628242",
     "exception": false,
     "start_time": "2024-02-05T18:56:29.632284",
     "status": "completed"
    },
    "tags": []
   },
   "outputs": [
    {
     "name": "stdout",
     "output_type": "stream",
     "text": [
      "/kaggle/input/fake-news-detection/true.csv\n",
      "/kaggle/input/fake-news-detection/fake.csv\n"
     ]
    }
   ],
   "source": [
    "# This Python 3 environment comes with many helpful analytics libraries installed\n",
    "# It is defined by the kaggle/python Docker image: https://github.com/kaggle/docker-python\n",
    "# For example, here's several helpful packages to load\n",
    "\n",
    "import numpy as np # linear algebra\n",
    "import pandas as pd # data processing, CSV file I/O (e.g. pd.read_csv)\n",
    "\n",
    "# Input data files are available in the read-only \"../input/\" directory\n",
    "# For example, running this (by clicking run or pressing Shift+Enter) will list all files under the input directory\n",
    "\n",
    "import os\n",
    "for dirname, _, filenames in os.walk('/kaggle/input'):\n",
    "    for filename in filenames:\n",
    "        print(os.path.join(dirname, filename))\n",
    "\n",
    "# You can write up to 20GB to the current directory (/kaggle/working/) that gets preserved as output when you create a version using \"Save & Run All\" \n",
    "# You can also write temporary files to /kaggle/temp/, but they won't be saved outside of the current session"
   ]
  },
  {
   "cell_type": "markdown",
   "id": "1adb5996",
   "metadata": {
    "papermill": {
     "duration": 0.008613,
     "end_time": "2024-02-05T18:56:30.645542",
     "exception": false,
     "start_time": "2024-02-05T18:56:30.636929",
     "status": "completed"
    },
    "tags": []
   },
   "source": [
    "**Importing Libraries**"
   ]
  },
  {
   "cell_type": "code",
   "execution_count": 2,
   "id": "5064632a",
   "metadata": {
    "execution": {
     "iopub.execute_input": "2024-02-05T18:56:30.664430Z",
     "iopub.status.busy": "2024-02-05T18:56:30.663335Z",
     "iopub.status.idle": "2024-02-05T18:56:32.678735Z",
     "shell.execute_reply": "2024-02-05T18:56:32.678035Z"
    },
    "papermill": {
     "duration": 2.027015,
     "end_time": "2024-02-05T18:56:32.680870",
     "exception": false,
     "start_time": "2024-02-05T18:56:30.653855",
     "status": "completed"
    },
    "tags": []
   },
   "outputs": [],
   "source": [
    "import pandas as pd\n",
    "import numpy as np\n",
    "import seaborn as sns\n",
    "import matplotlib.pyplot as plt\n",
    "from sklearn.model_selection import train_test_split\n",
    "from sklearn.metrics import accuracy_score\n",
    "from sklearn.metrics import classification_report\n",
    "import re\n",
    "import string"
   ]
  },
  {
   "cell_type": "markdown",
   "id": "2ee8553b",
   "metadata": {
    "papermill": {
     "duration": 0.008542,
     "end_time": "2024-02-05T18:56:32.697698",
     "exception": false,
     "start_time": "2024-02-05T18:56:32.689156",
     "status": "completed"
    },
    "tags": []
   },
   "source": [
    "**Importing Dataset**"
   ]
  },
  {
   "cell_type": "code",
   "execution_count": 3,
   "id": "b64a8b36",
   "metadata": {
    "execution": {
     "iopub.execute_input": "2024-02-05T18:56:32.716445Z",
     "iopub.status.busy": "2024-02-05T18:56:32.715289Z",
     "iopub.status.idle": "2024-02-05T18:56:35.514527Z",
     "shell.execute_reply": "2024-02-05T18:56:35.513171Z"
    },
    "papermill": {
     "duration": 2.810843,
     "end_time": "2024-02-05T18:56:35.516929",
     "exception": false,
     "start_time": "2024-02-05T18:56:32.706086",
     "status": "completed"
    },
    "tags": []
   },
   "outputs": [],
   "source": [
    "df_fake = pd.read_csv(\"/kaggle/input/fake-news-detection/fake.csv\")\n",
    "df_true = pd.read_csv(\"/kaggle/input/fake-news-detection/true.csv\")"
   ]
  },
  {
   "cell_type": "code",
   "execution_count": 4,
   "id": "392988bd",
   "metadata": {
    "execution": {
     "iopub.execute_input": "2024-02-05T18:56:35.536099Z",
     "iopub.status.busy": "2024-02-05T18:56:35.535171Z",
     "iopub.status.idle": "2024-02-05T18:56:35.553170Z",
     "shell.execute_reply": "2024-02-05T18:56:35.552414Z"
    },
    "papermill": {
     "duration": 0.029772,
     "end_time": "2024-02-05T18:56:35.554931",
     "exception": false,
     "start_time": "2024-02-05T18:56:35.525159",
     "status": "completed"
    },
    "tags": []
   },
   "outputs": [
    {
     "data": {
      "text/html": [
       "<div>\n",
       "<style scoped>\n",
       "    .dataframe tbody tr th:only-of-type {\n",
       "        vertical-align: middle;\n",
       "    }\n",
       "\n",
       "    .dataframe tbody tr th {\n",
       "        vertical-align: top;\n",
       "    }\n",
       "\n",
       "    .dataframe thead th {\n",
       "        text-align: right;\n",
       "    }\n",
       "</style>\n",
       "<table border=\"1\" class=\"dataframe\">\n",
       "  <thead>\n",
       "    <tr style=\"text-align: right;\">\n",
       "      <th></th>\n",
       "      <th>title</th>\n",
       "      <th>text</th>\n",
       "      <th>subject</th>\n",
       "      <th>date</th>\n",
       "    </tr>\n",
       "  </thead>\n",
       "  <tbody>\n",
       "    <tr>\n",
       "      <th>0</th>\n",
       "      <td>Donald Trump Sends Out Embarrassing New Year’...</td>\n",
       "      <td>Donald Trump just couldn t wish all Americans ...</td>\n",
       "      <td>News</td>\n",
       "      <td>December 31, 2017</td>\n",
       "    </tr>\n",
       "    <tr>\n",
       "      <th>1</th>\n",
       "      <td>Drunk Bragging Trump Staffer Started Russian ...</td>\n",
       "      <td>House Intelligence Committee Chairman Devin Nu...</td>\n",
       "      <td>News</td>\n",
       "      <td>December 31, 2017</td>\n",
       "    </tr>\n",
       "    <tr>\n",
       "      <th>2</th>\n",
       "      <td>Sheriff David Clarke Becomes An Internet Joke...</td>\n",
       "      <td>On Friday, it was revealed that former Milwauk...</td>\n",
       "      <td>News</td>\n",
       "      <td>December 30, 2017</td>\n",
       "    </tr>\n",
       "    <tr>\n",
       "      <th>3</th>\n",
       "      <td>Trump Is So Obsessed He Even Has Obama’s Name...</td>\n",
       "      <td>On Christmas day, Donald Trump announced that ...</td>\n",
       "      <td>News</td>\n",
       "      <td>December 29, 2017</td>\n",
       "    </tr>\n",
       "    <tr>\n",
       "      <th>4</th>\n",
       "      <td>Pope Francis Just Called Out Donald Trump Dur...</td>\n",
       "      <td>Pope Francis used his annual Christmas Day mes...</td>\n",
       "      <td>News</td>\n",
       "      <td>December 25, 2017</td>\n",
       "    </tr>\n",
       "  </tbody>\n",
       "</table>\n",
       "</div>"
      ],
      "text/plain": [
       "                                               title  \\\n",
       "0   Donald Trump Sends Out Embarrassing New Year’...   \n",
       "1   Drunk Bragging Trump Staffer Started Russian ...   \n",
       "2   Sheriff David Clarke Becomes An Internet Joke...   \n",
       "3   Trump Is So Obsessed He Even Has Obama’s Name...   \n",
       "4   Pope Francis Just Called Out Donald Trump Dur...   \n",
       "\n",
       "                                                text subject  \\\n",
       "0  Donald Trump just couldn t wish all Americans ...    News   \n",
       "1  House Intelligence Committee Chairman Devin Nu...    News   \n",
       "2  On Friday, it was revealed that former Milwauk...    News   \n",
       "3  On Christmas day, Donald Trump announced that ...    News   \n",
       "4  Pope Francis used his annual Christmas Day mes...    News   \n",
       "\n",
       "                date  \n",
       "0  December 31, 2017  \n",
       "1  December 31, 2017  \n",
       "2  December 30, 2017  \n",
       "3  December 29, 2017  \n",
       "4  December 25, 2017  "
      ]
     },
     "execution_count": 4,
     "metadata": {},
     "output_type": "execute_result"
    }
   ],
   "source": [
    "df_fake.head()"
   ]
  },
  {
   "cell_type": "code",
   "execution_count": 5,
   "id": "bab82395",
   "metadata": {
    "execution": {
     "iopub.execute_input": "2024-02-05T18:56:35.574093Z",
     "iopub.status.busy": "2024-02-05T18:56:35.573546Z",
     "iopub.status.idle": "2024-02-05T18:56:35.583940Z",
     "shell.execute_reply": "2024-02-05T18:56:35.582468Z"
    },
    "papermill": {
     "duration": 0.023253,
     "end_time": "2024-02-05T18:56:35.586648",
     "exception": false,
     "start_time": "2024-02-05T18:56:35.563395",
     "status": "completed"
    },
    "tags": []
   },
   "outputs": [
    {
     "data": {
      "text/html": [
       "<div>\n",
       "<style scoped>\n",
       "    .dataframe tbody tr th:only-of-type {\n",
       "        vertical-align: middle;\n",
       "    }\n",
       "\n",
       "    .dataframe tbody tr th {\n",
       "        vertical-align: top;\n",
       "    }\n",
       "\n",
       "    .dataframe thead th {\n",
       "        text-align: right;\n",
       "    }\n",
       "</style>\n",
       "<table border=\"1\" class=\"dataframe\">\n",
       "  <thead>\n",
       "    <tr style=\"text-align: right;\">\n",
       "      <th></th>\n",
       "      <th>title</th>\n",
       "      <th>text</th>\n",
       "      <th>subject</th>\n",
       "      <th>date</th>\n",
       "    </tr>\n",
       "  </thead>\n",
       "  <tbody>\n",
       "    <tr>\n",
       "      <th>0</th>\n",
       "      <td>As U.S. budget fight looms, Republicans flip t...</td>\n",
       "      <td>WASHINGTON (Reuters) - The head of a conservat...</td>\n",
       "      <td>politicsNews</td>\n",
       "      <td>December 31, 2017</td>\n",
       "    </tr>\n",
       "    <tr>\n",
       "      <th>1</th>\n",
       "      <td>U.S. military to accept transgender recruits o...</td>\n",
       "      <td>WASHINGTON (Reuters) - Transgender people will...</td>\n",
       "      <td>politicsNews</td>\n",
       "      <td>December 29, 2017</td>\n",
       "    </tr>\n",
       "    <tr>\n",
       "      <th>2</th>\n",
       "      <td>Senior U.S. Republican senator: 'Let Mr. Muell...</td>\n",
       "      <td>WASHINGTON (Reuters) - The special counsel inv...</td>\n",
       "      <td>politicsNews</td>\n",
       "      <td>December 31, 2017</td>\n",
       "    </tr>\n",
       "    <tr>\n",
       "      <th>3</th>\n",
       "      <td>FBI Russia probe helped by Australian diplomat...</td>\n",
       "      <td>WASHINGTON (Reuters) - Trump campaign adviser ...</td>\n",
       "      <td>politicsNews</td>\n",
       "      <td>December 30, 2017</td>\n",
       "    </tr>\n",
       "    <tr>\n",
       "      <th>4</th>\n",
       "      <td>Trump wants Postal Service to charge 'much mor...</td>\n",
       "      <td>SEATTLE/WASHINGTON (Reuters) - President Donal...</td>\n",
       "      <td>politicsNews</td>\n",
       "      <td>December 29, 2017</td>\n",
       "    </tr>\n",
       "  </tbody>\n",
       "</table>\n",
       "</div>"
      ],
      "text/plain": [
       "                                               title  \\\n",
       "0  As U.S. budget fight looms, Republicans flip t...   \n",
       "1  U.S. military to accept transgender recruits o...   \n",
       "2  Senior U.S. Republican senator: 'Let Mr. Muell...   \n",
       "3  FBI Russia probe helped by Australian diplomat...   \n",
       "4  Trump wants Postal Service to charge 'much mor...   \n",
       "\n",
       "                                                text       subject  \\\n",
       "0  WASHINGTON (Reuters) - The head of a conservat...  politicsNews   \n",
       "1  WASHINGTON (Reuters) - Transgender people will...  politicsNews   \n",
       "2  WASHINGTON (Reuters) - The special counsel inv...  politicsNews   \n",
       "3  WASHINGTON (Reuters) - Trump campaign adviser ...  politicsNews   \n",
       "4  SEATTLE/WASHINGTON (Reuters) - President Donal...  politicsNews   \n",
       "\n",
       "                 date  \n",
       "0  December 31, 2017   \n",
       "1  December 29, 2017   \n",
       "2  December 31, 2017   \n",
       "3  December 30, 2017   \n",
       "4  December 29, 2017   "
      ]
     },
     "execution_count": 5,
     "metadata": {},
     "output_type": "execute_result"
    }
   ],
   "source": [
    "df_true.head(5)"
   ]
  },
  {
   "cell_type": "markdown",
   "id": "cd15babe",
   "metadata": {
    "papermill": {
     "duration": 0.008432,
     "end_time": "2024-02-05T18:56:35.603891",
     "exception": false,
     "start_time": "2024-02-05T18:56:35.595459",
     "status": "completed"
    },
    "tags": []
   },
   "source": [
    "**Inserting a column \"class\" as target feature**"
   ]
  },
  {
   "cell_type": "code",
   "execution_count": 6,
   "id": "3911d8d0",
   "metadata": {
    "execution": {
     "iopub.execute_input": "2024-02-05T18:56:35.622745Z",
     "iopub.status.busy": "2024-02-05T18:56:35.622392Z",
     "iopub.status.idle": "2024-02-05T18:56:35.630193Z",
     "shell.execute_reply": "2024-02-05T18:56:35.628750Z"
    },
    "papermill": {
     "duration": 0.020153,
     "end_time": "2024-02-05T18:56:35.632650",
     "exception": false,
     "start_time": "2024-02-05T18:56:35.612497",
     "status": "completed"
    },
    "tags": []
   },
   "outputs": [],
   "source": [
    "df_fake[\"class\"] = 0\n",
    "df_true[\"class\"] = 1"
   ]
  },
  {
   "cell_type": "code",
   "execution_count": 7,
   "id": "92611507",
   "metadata": {
    "execution": {
     "iopub.execute_input": "2024-02-05T18:56:35.651907Z",
     "iopub.status.busy": "2024-02-05T18:56:35.651572Z",
     "iopub.status.idle": "2024-02-05T18:56:35.658270Z",
     "shell.execute_reply": "2024-02-05T18:56:35.657204Z"
    },
    "papermill": {
     "duration": 0.019075,
     "end_time": "2024-02-05T18:56:35.660584",
     "exception": false,
     "start_time": "2024-02-05T18:56:35.641509",
     "status": "completed"
    },
    "tags": []
   },
   "outputs": [
    {
     "data": {
      "text/plain": [
       "((23481, 5), (21417, 5))"
      ]
     },
     "execution_count": 7,
     "metadata": {},
     "output_type": "execute_result"
    }
   ],
   "source": [
    "df_fake.shape, df_true.shape"
   ]
  },
  {
   "cell_type": "code",
   "execution_count": 8,
   "id": "7f27663b",
   "metadata": {
    "execution": {
     "iopub.execute_input": "2024-02-05T18:56:35.680724Z",
     "iopub.status.busy": "2024-02-05T18:56:35.680365Z",
     "iopub.status.idle": "2024-02-05T18:56:35.738875Z",
     "shell.execute_reply": "2024-02-05T18:56:35.737412Z"
    },
    "papermill": {
     "duration": 0.071613,
     "end_time": "2024-02-05T18:56:35.741233",
     "exception": false,
     "start_time": "2024-02-05T18:56:35.669620",
     "status": "completed"
    },
    "tags": []
   },
   "outputs": [],
   "source": [
    "# Removing last 10 rows for manual testing\n",
    "df_fake_manual_testing = df_fake.tail(10)\n",
    "for i in range(23480,23470,-1):\n",
    "    df_fake.drop([i], axis = 0, inplace = True)\n",
    "    \n",
    "    \n",
    "df_true_manual_testing = df_true.tail(10)\n",
    "for i in range(21416,21406,-1):\n",
    "    df_true.drop([i], axis = 0, inplace = True)"
   ]
  },
  {
   "cell_type": "code",
   "execution_count": 9,
   "id": "a2bf0de4",
   "metadata": {
    "execution": {
     "iopub.execute_input": "2024-02-05T18:56:35.760997Z",
     "iopub.status.busy": "2024-02-05T18:56:35.760658Z",
     "iopub.status.idle": "2024-02-05T18:56:35.767302Z",
     "shell.execute_reply": "2024-02-05T18:56:35.766365Z"
    },
    "papermill": {
     "duration": 0.018607,
     "end_time": "2024-02-05T18:56:35.769072",
     "exception": false,
     "start_time": "2024-02-05T18:56:35.750465",
     "status": "completed"
    },
    "tags": []
   },
   "outputs": [
    {
     "data": {
      "text/plain": [
       "((23471, 5), (21407, 5))"
      ]
     },
     "execution_count": 9,
     "metadata": {},
     "output_type": "execute_result"
    }
   ],
   "source": [
    "df_fake.shape, df_true.shape"
   ]
  },
  {
   "cell_type": "code",
   "execution_count": 10,
   "id": "da92f5e4",
   "metadata": {
    "execution": {
     "iopub.execute_input": "2024-02-05T18:56:35.787794Z",
     "iopub.status.busy": "2024-02-05T18:56:35.787457Z",
     "iopub.status.idle": "2024-02-05T18:56:35.793581Z",
     "shell.execute_reply": "2024-02-05T18:56:35.792570Z"
    },
    "papermill": {
     "duration": 0.018042,
     "end_time": "2024-02-05T18:56:35.795805",
     "exception": false,
     "start_time": "2024-02-05T18:56:35.777763",
     "status": "completed"
    },
    "tags": []
   },
   "outputs": [
    {
     "name": "stderr",
     "output_type": "stream",
     "text": [
      "/tmp/ipykernel_18/860779283.py:1: SettingWithCopyWarning: \n",
      "A value is trying to be set on a copy of a slice from a DataFrame.\n",
      "Try using .loc[row_indexer,col_indexer] = value instead\n",
      "\n",
      "See the caveats in the documentation: https://pandas.pydata.org/pandas-docs/stable/user_guide/indexing.html#returning-a-view-versus-a-copy\n",
      "  df_fake_manual_testing[\"class\"] = 0\n",
      "/tmp/ipykernel_18/860779283.py:2: SettingWithCopyWarning: \n",
      "A value is trying to be set on a copy of a slice from a DataFrame.\n",
      "Try using .loc[row_indexer,col_indexer] = value instead\n",
      "\n",
      "See the caveats in the documentation: https://pandas.pydata.org/pandas-docs/stable/user_guide/indexing.html#returning-a-view-versus-a-copy\n",
      "  df_true_manual_testing[\"class\"] = 1\n"
     ]
    }
   ],
   "source": [
    "df_fake_manual_testing[\"class\"] = 0\n",
    "df_true_manual_testing[\"class\"] = 1"
   ]
  },
  {
   "cell_type": "code",
   "execution_count": 11,
   "id": "96716c0d",
   "metadata": {
    "execution": {
     "iopub.execute_input": "2024-02-05T18:56:35.815831Z",
     "iopub.status.busy": "2024-02-05T18:56:35.815430Z",
     "iopub.status.idle": "2024-02-05T18:56:35.828789Z",
     "shell.execute_reply": "2024-02-05T18:56:35.827824Z"
    },
    "papermill": {
     "duration": 0.025823,
     "end_time": "2024-02-05T18:56:35.830690",
     "exception": false,
     "start_time": "2024-02-05T18:56:35.804867",
     "status": "completed"
    },
    "tags": []
   },
   "outputs": [
    {
     "data": {
      "text/html": [
       "<div>\n",
       "<style scoped>\n",
       "    .dataframe tbody tr th:only-of-type {\n",
       "        vertical-align: middle;\n",
       "    }\n",
       "\n",
       "    .dataframe tbody tr th {\n",
       "        vertical-align: top;\n",
       "    }\n",
       "\n",
       "    .dataframe thead th {\n",
       "        text-align: right;\n",
       "    }\n",
       "</style>\n",
       "<table border=\"1\" class=\"dataframe\">\n",
       "  <thead>\n",
       "    <tr style=\"text-align: right;\">\n",
       "      <th></th>\n",
       "      <th>title</th>\n",
       "      <th>text</th>\n",
       "      <th>subject</th>\n",
       "      <th>date</th>\n",
       "      <th>class</th>\n",
       "    </tr>\n",
       "  </thead>\n",
       "  <tbody>\n",
       "    <tr>\n",
       "      <th>23471</th>\n",
       "      <td>Seven Iranians freed in the prisoner swap have...</td>\n",
       "      <td>21st Century Wire says This week, the historic...</td>\n",
       "      <td>Middle-east</td>\n",
       "      <td>January 20, 2016</td>\n",
       "      <td>0</td>\n",
       "    </tr>\n",
       "    <tr>\n",
       "      <th>23472</th>\n",
       "      <td>#Hashtag Hell &amp; The Fake Left</td>\n",
       "      <td>By Dady Chery and Gilbert MercierAll writers ...</td>\n",
       "      <td>Middle-east</td>\n",
       "      <td>January 19, 2016</td>\n",
       "      <td>0</td>\n",
       "    </tr>\n",
       "    <tr>\n",
       "      <th>23473</th>\n",
       "      <td>Astroturfing: Journalist Reveals Brainwashing ...</td>\n",
       "      <td>Vic Bishop Waking TimesOur reality is carefull...</td>\n",
       "      <td>Middle-east</td>\n",
       "      <td>January 19, 2016</td>\n",
       "      <td>0</td>\n",
       "    </tr>\n",
       "    <tr>\n",
       "      <th>23474</th>\n",
       "      <td>The New American Century: An Era of Fraud</td>\n",
       "      <td>Paul Craig RobertsIn the last years of the 20t...</td>\n",
       "      <td>Middle-east</td>\n",
       "      <td>January 19, 2016</td>\n",
       "      <td>0</td>\n",
       "    </tr>\n",
       "    <tr>\n",
       "      <th>23475</th>\n",
       "      <td>Hillary Clinton: ‘Israel First’ (and no peace ...</td>\n",
       "      <td>Robert Fantina CounterpunchAlthough the United...</td>\n",
       "      <td>Middle-east</td>\n",
       "      <td>January 18, 2016</td>\n",
       "      <td>0</td>\n",
       "    </tr>\n",
       "    <tr>\n",
       "      <th>23476</th>\n",
       "      <td>McPain: John McCain Furious That Iran Treated ...</td>\n",
       "      <td>21st Century Wire says As 21WIRE reported earl...</td>\n",
       "      <td>Middle-east</td>\n",
       "      <td>January 16, 2016</td>\n",
       "      <td>0</td>\n",
       "    </tr>\n",
       "    <tr>\n",
       "      <th>23477</th>\n",
       "      <td>JUSTICE? Yahoo Settles E-mail Privacy Class-ac...</td>\n",
       "      <td>21st Century Wire says It s a familiar theme. ...</td>\n",
       "      <td>Middle-east</td>\n",
       "      <td>January 16, 2016</td>\n",
       "      <td>0</td>\n",
       "    </tr>\n",
       "    <tr>\n",
       "      <th>23478</th>\n",
       "      <td>Sunnistan: US and Allied ‘Safe Zone’ Plan to T...</td>\n",
       "      <td>Patrick Henningsen  21st Century WireRemember ...</td>\n",
       "      <td>Middle-east</td>\n",
       "      <td>January 15, 2016</td>\n",
       "      <td>0</td>\n",
       "    </tr>\n",
       "    <tr>\n",
       "      <th>23479</th>\n",
       "      <td>How to Blow $700 Million: Al Jazeera America F...</td>\n",
       "      <td>21st Century Wire says Al Jazeera America will...</td>\n",
       "      <td>Middle-east</td>\n",
       "      <td>January 14, 2016</td>\n",
       "      <td>0</td>\n",
       "    </tr>\n",
       "    <tr>\n",
       "      <th>23480</th>\n",
       "      <td>10 U.S. Navy Sailors Held by Iranian Military ...</td>\n",
       "      <td>21st Century Wire says As 21WIRE predicted in ...</td>\n",
       "      <td>Middle-east</td>\n",
       "      <td>January 12, 2016</td>\n",
       "      <td>0</td>\n",
       "    </tr>\n",
       "  </tbody>\n",
       "</table>\n",
       "</div>"
      ],
      "text/plain": [
       "                                                   title  \\\n",
       "23471  Seven Iranians freed in the prisoner swap have...   \n",
       "23472                      #Hashtag Hell & The Fake Left   \n",
       "23473  Astroturfing: Journalist Reveals Brainwashing ...   \n",
       "23474          The New American Century: An Era of Fraud   \n",
       "23475  Hillary Clinton: ‘Israel First’ (and no peace ...   \n",
       "23476  McPain: John McCain Furious That Iran Treated ...   \n",
       "23477  JUSTICE? Yahoo Settles E-mail Privacy Class-ac...   \n",
       "23478  Sunnistan: US and Allied ‘Safe Zone’ Plan to T...   \n",
       "23479  How to Blow $700 Million: Al Jazeera America F...   \n",
       "23480  10 U.S. Navy Sailors Held by Iranian Military ...   \n",
       "\n",
       "                                                    text      subject  \\\n",
       "23471  21st Century Wire says This week, the historic...  Middle-east   \n",
       "23472   By Dady Chery and Gilbert MercierAll writers ...  Middle-east   \n",
       "23473  Vic Bishop Waking TimesOur reality is carefull...  Middle-east   \n",
       "23474  Paul Craig RobertsIn the last years of the 20t...  Middle-east   \n",
       "23475  Robert Fantina CounterpunchAlthough the United...  Middle-east   \n",
       "23476  21st Century Wire says As 21WIRE reported earl...  Middle-east   \n",
       "23477  21st Century Wire says It s a familiar theme. ...  Middle-east   \n",
       "23478  Patrick Henningsen  21st Century WireRemember ...  Middle-east   \n",
       "23479  21st Century Wire says Al Jazeera America will...  Middle-east   \n",
       "23480  21st Century Wire says As 21WIRE predicted in ...  Middle-east   \n",
       "\n",
       "                   date  class  \n",
       "23471  January 20, 2016      0  \n",
       "23472  January 19, 2016      0  \n",
       "23473  January 19, 2016      0  \n",
       "23474  January 19, 2016      0  \n",
       "23475  January 18, 2016      0  \n",
       "23476  January 16, 2016      0  \n",
       "23477  January 16, 2016      0  \n",
       "23478  January 15, 2016      0  \n",
       "23479  January 14, 2016      0  \n",
       "23480  January 12, 2016      0  "
      ]
     },
     "execution_count": 11,
     "metadata": {},
     "output_type": "execute_result"
    }
   ],
   "source": [
    "df_fake_manual_testing.head(10)"
   ]
  },
  {
   "cell_type": "code",
   "execution_count": 12,
   "id": "ceec7cab",
   "metadata": {
    "execution": {
     "iopub.execute_input": "2024-02-05T18:56:35.850613Z",
     "iopub.status.busy": "2024-02-05T18:56:35.850252Z",
     "iopub.status.idle": "2024-02-05T18:56:35.861966Z",
     "shell.execute_reply": "2024-02-05T18:56:35.860929Z"
    },
    "papermill": {
     "duration": 0.024488,
     "end_time": "2024-02-05T18:56:35.864254",
     "exception": false,
     "start_time": "2024-02-05T18:56:35.839766",
     "status": "completed"
    },
    "tags": []
   },
   "outputs": [
    {
     "data": {
      "text/html": [
       "<div>\n",
       "<style scoped>\n",
       "    .dataframe tbody tr th:only-of-type {\n",
       "        vertical-align: middle;\n",
       "    }\n",
       "\n",
       "    .dataframe tbody tr th {\n",
       "        vertical-align: top;\n",
       "    }\n",
       "\n",
       "    .dataframe thead th {\n",
       "        text-align: right;\n",
       "    }\n",
       "</style>\n",
       "<table border=\"1\" class=\"dataframe\">\n",
       "  <thead>\n",
       "    <tr style=\"text-align: right;\">\n",
       "      <th></th>\n",
       "      <th>title</th>\n",
       "      <th>text</th>\n",
       "      <th>subject</th>\n",
       "      <th>date</th>\n",
       "      <th>class</th>\n",
       "    </tr>\n",
       "  </thead>\n",
       "  <tbody>\n",
       "    <tr>\n",
       "      <th>21407</th>\n",
       "      <td>Mata Pires, owner of embattled Brazil builder ...</td>\n",
       "      <td>SAO PAULO (Reuters) - Cesar Mata Pires, the ow...</td>\n",
       "      <td>worldnews</td>\n",
       "      <td>August 22, 2017</td>\n",
       "      <td>1</td>\n",
       "    </tr>\n",
       "    <tr>\n",
       "      <th>21408</th>\n",
       "      <td>U.S., North Korea clash at U.N. forum over nuc...</td>\n",
       "      <td>GENEVA (Reuters) - North Korea and the United ...</td>\n",
       "      <td>worldnews</td>\n",
       "      <td>August 22, 2017</td>\n",
       "      <td>1</td>\n",
       "    </tr>\n",
       "    <tr>\n",
       "      <th>21409</th>\n",
       "      <td>U.S., North Korea clash at U.N. arms forum on ...</td>\n",
       "      <td>GENEVA (Reuters) - North Korea and the United ...</td>\n",
       "      <td>worldnews</td>\n",
       "      <td>August 22, 2017</td>\n",
       "      <td>1</td>\n",
       "    </tr>\n",
       "    <tr>\n",
       "      <th>21410</th>\n",
       "      <td>Headless torso could belong to submarine journ...</td>\n",
       "      <td>COPENHAGEN (Reuters) - Danish police said on T...</td>\n",
       "      <td>worldnews</td>\n",
       "      <td>August 22, 2017</td>\n",
       "      <td>1</td>\n",
       "    </tr>\n",
       "    <tr>\n",
       "      <th>21411</th>\n",
       "      <td>North Korea shipments to Syria chemical arms a...</td>\n",
       "      <td>UNITED NATIONS (Reuters) - Two North Korean sh...</td>\n",
       "      <td>worldnews</td>\n",
       "      <td>August 21, 2017</td>\n",
       "      <td>1</td>\n",
       "    </tr>\n",
       "    <tr>\n",
       "      <th>21412</th>\n",
       "      <td>'Fully committed' NATO backs new U.S. approach...</td>\n",
       "      <td>BRUSSELS (Reuters) - NATO allies on Tuesday we...</td>\n",
       "      <td>worldnews</td>\n",
       "      <td>August 22, 2017</td>\n",
       "      <td>1</td>\n",
       "    </tr>\n",
       "    <tr>\n",
       "      <th>21413</th>\n",
       "      <td>LexisNexis withdrew two products from Chinese ...</td>\n",
       "      <td>LONDON (Reuters) - LexisNexis, a provider of l...</td>\n",
       "      <td>worldnews</td>\n",
       "      <td>August 22, 2017</td>\n",
       "      <td>1</td>\n",
       "    </tr>\n",
       "    <tr>\n",
       "      <th>21414</th>\n",
       "      <td>Minsk cultural hub becomes haven from authorities</td>\n",
       "      <td>MINSK (Reuters) - In the shadow of disused Sov...</td>\n",
       "      <td>worldnews</td>\n",
       "      <td>August 22, 2017</td>\n",
       "      <td>1</td>\n",
       "    </tr>\n",
       "    <tr>\n",
       "      <th>21415</th>\n",
       "      <td>Vatican upbeat on possibility of Pope Francis ...</td>\n",
       "      <td>MOSCOW (Reuters) - Vatican Secretary of State ...</td>\n",
       "      <td>worldnews</td>\n",
       "      <td>August 22, 2017</td>\n",
       "      <td>1</td>\n",
       "    </tr>\n",
       "    <tr>\n",
       "      <th>21416</th>\n",
       "      <td>Indonesia to buy $1.14 billion worth of Russia...</td>\n",
       "      <td>JAKARTA (Reuters) - Indonesia will buy 11 Sukh...</td>\n",
       "      <td>worldnews</td>\n",
       "      <td>August 22, 2017</td>\n",
       "      <td>1</td>\n",
       "    </tr>\n",
       "  </tbody>\n",
       "</table>\n",
       "</div>"
      ],
      "text/plain": [
       "                                                   title  \\\n",
       "21407  Mata Pires, owner of embattled Brazil builder ...   \n",
       "21408  U.S., North Korea clash at U.N. forum over nuc...   \n",
       "21409  U.S., North Korea clash at U.N. arms forum on ...   \n",
       "21410  Headless torso could belong to submarine journ...   \n",
       "21411  North Korea shipments to Syria chemical arms a...   \n",
       "21412  'Fully committed' NATO backs new U.S. approach...   \n",
       "21413  LexisNexis withdrew two products from Chinese ...   \n",
       "21414  Minsk cultural hub becomes haven from authorities   \n",
       "21415  Vatican upbeat on possibility of Pope Francis ...   \n",
       "21416  Indonesia to buy $1.14 billion worth of Russia...   \n",
       "\n",
       "                                                    text    subject  \\\n",
       "21407  SAO PAULO (Reuters) - Cesar Mata Pires, the ow...  worldnews   \n",
       "21408  GENEVA (Reuters) - North Korea and the United ...  worldnews   \n",
       "21409  GENEVA (Reuters) - North Korea and the United ...  worldnews   \n",
       "21410  COPENHAGEN (Reuters) - Danish police said on T...  worldnews   \n",
       "21411  UNITED NATIONS (Reuters) - Two North Korean sh...  worldnews   \n",
       "21412  BRUSSELS (Reuters) - NATO allies on Tuesday we...  worldnews   \n",
       "21413  LONDON (Reuters) - LexisNexis, a provider of l...  worldnews   \n",
       "21414  MINSK (Reuters) - In the shadow of disused Sov...  worldnews   \n",
       "21415  MOSCOW (Reuters) - Vatican Secretary of State ...  worldnews   \n",
       "21416  JAKARTA (Reuters) - Indonesia will buy 11 Sukh...  worldnews   \n",
       "\n",
       "                   date  class  \n",
       "21407  August 22, 2017       1  \n",
       "21408  August 22, 2017       1  \n",
       "21409  August 22, 2017       1  \n",
       "21410  August 22, 2017       1  \n",
       "21411  August 21, 2017       1  \n",
       "21412  August 22, 2017       1  \n",
       "21413  August 22, 2017       1  \n",
       "21414  August 22, 2017       1  \n",
       "21415  August 22, 2017       1  \n",
       "21416  August 22, 2017       1  "
      ]
     },
     "execution_count": 12,
     "metadata": {},
     "output_type": "execute_result"
    }
   ],
   "source": [
    "df_true_manual_testing.head(10)"
   ]
  },
  {
   "cell_type": "code",
   "execution_count": 13,
   "id": "9ea22190",
   "metadata": {
    "execution": {
     "iopub.execute_input": "2024-02-05T18:56:35.884298Z",
     "iopub.status.busy": "2024-02-05T18:56:35.883939Z",
     "iopub.status.idle": "2024-02-05T18:56:35.897160Z",
     "shell.execute_reply": "2024-02-05T18:56:35.895860Z"
    },
    "papermill": {
     "duration": 0.025747,
     "end_time": "2024-02-05T18:56:35.899316",
     "exception": false,
     "start_time": "2024-02-05T18:56:35.873569",
     "status": "completed"
    },
    "tags": []
   },
   "outputs": [],
   "source": [
    "df_manual_testing = pd.concat([df_fake_manual_testing,df_true_manual_testing], axis = 0)\n",
    "df_manual_testing.to_csv(\"manual_testing.csv\")"
   ]
  },
  {
   "cell_type": "markdown",
   "id": "42cebffa",
   "metadata": {
    "papermill": {
     "duration": 0.008649,
     "end_time": "2024-02-05T18:56:35.917708",
     "exception": false,
     "start_time": "2024-02-05T18:56:35.909059",
     "status": "completed"
    },
    "tags": []
   },
   "source": [
    "**Merging True and Fake Dataframes**"
   ]
  },
  {
   "cell_type": "code",
   "execution_count": 14,
   "id": "9674a542",
   "metadata": {
    "execution": {
     "iopub.execute_input": "2024-02-05T18:56:35.937129Z",
     "iopub.status.busy": "2024-02-05T18:56:35.936789Z",
     "iopub.status.idle": "2024-02-05T18:56:35.954028Z",
     "shell.execute_reply": "2024-02-05T18:56:35.952827Z"
    },
    "papermill": {
     "duration": 0.029465,
     "end_time": "2024-02-05T18:56:35.956098",
     "exception": false,
     "start_time": "2024-02-05T18:56:35.926633",
     "status": "completed"
    },
    "tags": []
   },
   "outputs": [
    {
     "data": {
      "text/html": [
       "<div>\n",
       "<style scoped>\n",
       "    .dataframe tbody tr th:only-of-type {\n",
       "        vertical-align: middle;\n",
       "    }\n",
       "\n",
       "    .dataframe tbody tr th {\n",
       "        vertical-align: top;\n",
       "    }\n",
       "\n",
       "    .dataframe thead th {\n",
       "        text-align: right;\n",
       "    }\n",
       "</style>\n",
       "<table border=\"1\" class=\"dataframe\">\n",
       "  <thead>\n",
       "    <tr style=\"text-align: right;\">\n",
       "      <th></th>\n",
       "      <th>title</th>\n",
       "      <th>text</th>\n",
       "      <th>subject</th>\n",
       "      <th>date</th>\n",
       "      <th>class</th>\n",
       "    </tr>\n",
       "  </thead>\n",
       "  <tbody>\n",
       "    <tr>\n",
       "      <th>0</th>\n",
       "      <td>Donald Trump Sends Out Embarrassing New Year’...</td>\n",
       "      <td>Donald Trump just couldn t wish all Americans ...</td>\n",
       "      <td>News</td>\n",
       "      <td>December 31, 2017</td>\n",
       "      <td>0</td>\n",
       "    </tr>\n",
       "    <tr>\n",
       "      <th>1</th>\n",
       "      <td>Drunk Bragging Trump Staffer Started Russian ...</td>\n",
       "      <td>House Intelligence Committee Chairman Devin Nu...</td>\n",
       "      <td>News</td>\n",
       "      <td>December 31, 2017</td>\n",
       "      <td>0</td>\n",
       "    </tr>\n",
       "    <tr>\n",
       "      <th>2</th>\n",
       "      <td>Sheriff David Clarke Becomes An Internet Joke...</td>\n",
       "      <td>On Friday, it was revealed that former Milwauk...</td>\n",
       "      <td>News</td>\n",
       "      <td>December 30, 2017</td>\n",
       "      <td>0</td>\n",
       "    </tr>\n",
       "    <tr>\n",
       "      <th>3</th>\n",
       "      <td>Trump Is So Obsessed He Even Has Obama’s Name...</td>\n",
       "      <td>On Christmas day, Donald Trump announced that ...</td>\n",
       "      <td>News</td>\n",
       "      <td>December 29, 2017</td>\n",
       "      <td>0</td>\n",
       "    </tr>\n",
       "    <tr>\n",
       "      <th>4</th>\n",
       "      <td>Pope Francis Just Called Out Donald Trump Dur...</td>\n",
       "      <td>Pope Francis used his annual Christmas Day mes...</td>\n",
       "      <td>News</td>\n",
       "      <td>December 25, 2017</td>\n",
       "      <td>0</td>\n",
       "    </tr>\n",
       "    <tr>\n",
       "      <th>5</th>\n",
       "      <td>Racist Alabama Cops Brutalize Black Boy While...</td>\n",
       "      <td>The number of cases of cops brutalizing and ki...</td>\n",
       "      <td>News</td>\n",
       "      <td>December 25, 2017</td>\n",
       "      <td>0</td>\n",
       "    </tr>\n",
       "    <tr>\n",
       "      <th>6</th>\n",
       "      <td>Fresh Off The Golf Course, Trump Lashes Out A...</td>\n",
       "      <td>Donald Trump spent a good portion of his day a...</td>\n",
       "      <td>News</td>\n",
       "      <td>December 23, 2017</td>\n",
       "      <td>0</td>\n",
       "    </tr>\n",
       "    <tr>\n",
       "      <th>7</th>\n",
       "      <td>Trump Said Some INSANELY Racist Stuff Inside ...</td>\n",
       "      <td>In the wake of yet another court decision that...</td>\n",
       "      <td>News</td>\n",
       "      <td>December 23, 2017</td>\n",
       "      <td>0</td>\n",
       "    </tr>\n",
       "    <tr>\n",
       "      <th>8</th>\n",
       "      <td>Former CIA Director Slams Trump Over UN Bully...</td>\n",
       "      <td>Many people have raised the alarm regarding th...</td>\n",
       "      <td>News</td>\n",
       "      <td>December 22, 2017</td>\n",
       "      <td>0</td>\n",
       "    </tr>\n",
       "    <tr>\n",
       "      <th>9</th>\n",
       "      <td>WATCH: Brand-New Pro-Trump Ad Features So Muc...</td>\n",
       "      <td>Just when you might have thought we d get a br...</td>\n",
       "      <td>News</td>\n",
       "      <td>December 21, 2017</td>\n",
       "      <td>0</td>\n",
       "    </tr>\n",
       "  </tbody>\n",
       "</table>\n",
       "</div>"
      ],
      "text/plain": [
       "                                               title  \\\n",
       "0   Donald Trump Sends Out Embarrassing New Year’...   \n",
       "1   Drunk Bragging Trump Staffer Started Russian ...   \n",
       "2   Sheriff David Clarke Becomes An Internet Joke...   \n",
       "3   Trump Is So Obsessed He Even Has Obama’s Name...   \n",
       "4   Pope Francis Just Called Out Donald Trump Dur...   \n",
       "5   Racist Alabama Cops Brutalize Black Boy While...   \n",
       "6   Fresh Off The Golf Course, Trump Lashes Out A...   \n",
       "7   Trump Said Some INSANELY Racist Stuff Inside ...   \n",
       "8   Former CIA Director Slams Trump Over UN Bully...   \n",
       "9   WATCH: Brand-New Pro-Trump Ad Features So Muc...   \n",
       "\n",
       "                                                text subject  \\\n",
       "0  Donald Trump just couldn t wish all Americans ...    News   \n",
       "1  House Intelligence Committee Chairman Devin Nu...    News   \n",
       "2  On Friday, it was revealed that former Milwauk...    News   \n",
       "3  On Christmas day, Donald Trump announced that ...    News   \n",
       "4  Pope Francis used his annual Christmas Day mes...    News   \n",
       "5  The number of cases of cops brutalizing and ki...    News   \n",
       "6  Donald Trump spent a good portion of his day a...    News   \n",
       "7  In the wake of yet another court decision that...    News   \n",
       "8  Many people have raised the alarm regarding th...    News   \n",
       "9  Just when you might have thought we d get a br...    News   \n",
       "\n",
       "                date  class  \n",
       "0  December 31, 2017      0  \n",
       "1  December 31, 2017      0  \n",
       "2  December 30, 2017      0  \n",
       "3  December 29, 2017      0  \n",
       "4  December 25, 2017      0  \n",
       "5  December 25, 2017      0  \n",
       "6  December 23, 2017      0  \n",
       "7  December 23, 2017      0  \n",
       "8  December 22, 2017      0  \n",
       "9  December 21, 2017      0  "
      ]
     },
     "execution_count": 14,
     "metadata": {},
     "output_type": "execute_result"
    }
   ],
   "source": [
    "df_merge = pd.concat([df_fake, df_true], axis =0 )\n",
    "df_merge.head(10)"
   ]
  },
  {
   "cell_type": "code",
   "execution_count": 15,
   "id": "26733582",
   "metadata": {
    "execution": {
     "iopub.execute_input": "2024-02-05T18:56:35.977480Z",
     "iopub.status.busy": "2024-02-05T18:56:35.977005Z",
     "iopub.status.idle": "2024-02-05T18:56:35.983312Z",
     "shell.execute_reply": "2024-02-05T18:56:35.982487Z"
    },
    "papermill": {
     "duration": 0.0191,
     "end_time": "2024-02-05T18:56:35.984946",
     "exception": false,
     "start_time": "2024-02-05T18:56:35.965846",
     "status": "completed"
    },
    "tags": []
   },
   "outputs": [
    {
     "data": {
      "text/plain": [
       "Index(['title', 'text', 'subject', 'date', 'class'], dtype='object')"
      ]
     },
     "execution_count": 15,
     "metadata": {},
     "output_type": "execute_result"
    }
   ],
   "source": [
    "df_merge.columns"
   ]
  },
  {
   "cell_type": "markdown",
   "id": "d37604f4",
   "metadata": {
    "papermill": {
     "duration": 0.009126,
     "end_time": "2024-02-05T18:56:36.004276",
     "exception": false,
     "start_time": "2024-02-05T18:56:35.995150",
     "status": "completed"
    },
    "tags": []
   },
   "source": [
    "**Removing columns which are not required**"
   ]
  },
  {
   "cell_type": "code",
   "execution_count": 16,
   "id": "93abc0a5",
   "metadata": {
    "execution": {
     "iopub.execute_input": "2024-02-05T18:56:36.024700Z",
     "iopub.status.busy": "2024-02-05T18:56:36.024355Z",
     "iopub.status.idle": "2024-02-05T18:56:36.034429Z",
     "shell.execute_reply": "2024-02-05T18:56:36.032771Z"
    },
    "papermill": {
     "duration": 0.023283,
     "end_time": "2024-02-05T18:56:36.036841",
     "exception": false,
     "start_time": "2024-02-05T18:56:36.013558",
     "status": "completed"
    },
    "tags": []
   },
   "outputs": [],
   "source": [
    "df = df_merge.drop([\"title\", \"subject\",\"date\"], axis = 1)"
   ]
  },
  {
   "cell_type": "code",
   "execution_count": 17,
   "id": "086f8a8b",
   "metadata": {
    "execution": {
     "iopub.execute_input": "2024-02-05T18:56:36.058160Z",
     "iopub.status.busy": "2024-02-05T18:56:36.057822Z",
     "iopub.status.idle": "2024-02-05T18:56:36.074198Z",
     "shell.execute_reply": "2024-02-05T18:56:36.072631Z"
    },
    "papermill": {
     "duration": 0.030266,
     "end_time": "2024-02-05T18:56:36.077022",
     "exception": false,
     "start_time": "2024-02-05T18:56:36.046756",
     "status": "completed"
    },
    "tags": []
   },
   "outputs": [
    {
     "data": {
      "text/plain": [
       "text     0\n",
       "class    0\n",
       "dtype: int64"
      ]
     },
     "execution_count": 17,
     "metadata": {},
     "output_type": "execute_result"
    }
   ],
   "source": [
    "df.isnull().sum()"
   ]
  },
  {
   "cell_type": "markdown",
   "id": "5614de07",
   "metadata": {
    "papermill": {
     "duration": 0.009481,
     "end_time": "2024-02-05T18:56:36.096604",
     "exception": false,
     "start_time": "2024-02-05T18:56:36.087123",
     "status": "completed"
    },
    "tags": []
   },
   "source": [
    "**Random Shuffling the dataframe**"
   ]
  },
  {
   "cell_type": "code",
   "execution_count": 18,
   "id": "b3299942",
   "metadata": {
    "execution": {
     "iopub.execute_input": "2024-02-05T18:56:36.117882Z",
     "iopub.status.busy": "2024-02-05T18:56:36.117503Z",
     "iopub.status.idle": "2024-02-05T18:56:36.129855Z",
     "shell.execute_reply": "2024-02-05T18:56:36.128786Z"
    },
    "papermill": {
     "duration": 0.025663,
     "end_time": "2024-02-05T18:56:36.132034",
     "exception": false,
     "start_time": "2024-02-05T18:56:36.106371",
     "status": "completed"
    },
    "tags": []
   },
   "outputs": [],
   "source": [
    "df = df.sample(frac = 1)"
   ]
  },
  {
   "cell_type": "code",
   "execution_count": 19,
   "id": "146008bd",
   "metadata": {
    "execution": {
     "iopub.execute_input": "2024-02-05T18:56:36.153330Z",
     "iopub.status.busy": "2024-02-05T18:56:36.152984Z",
     "iopub.status.idle": "2024-02-05T18:56:36.164372Z",
     "shell.execute_reply": "2024-02-05T18:56:36.162823Z"
    },
    "papermill": {
     "duration": 0.02447,
     "end_time": "2024-02-05T18:56:36.166426",
     "exception": false,
     "start_time": "2024-02-05T18:56:36.141956",
     "status": "completed"
    },
    "tags": []
   },
   "outputs": [
    {
     "data": {
      "text/html": [
       "<div>\n",
       "<style scoped>\n",
       "    .dataframe tbody tr th:only-of-type {\n",
       "        vertical-align: middle;\n",
       "    }\n",
       "\n",
       "    .dataframe tbody tr th {\n",
       "        vertical-align: top;\n",
       "    }\n",
       "\n",
       "    .dataframe thead th {\n",
       "        text-align: right;\n",
       "    }\n",
       "</style>\n",
       "<table border=\"1\" class=\"dataframe\">\n",
       "  <thead>\n",
       "    <tr style=\"text-align: right;\">\n",
       "      <th></th>\n",
       "      <th>text</th>\n",
       "      <th>class</th>\n",
       "    </tr>\n",
       "  </thead>\n",
       "  <tbody>\n",
       "    <tr>\n",
       "      <th>4933</th>\n",
       "      <td>WASHINGTON (Reuters) - President Donald Trump’...</td>\n",
       "      <td>1</td>\n",
       "    </tr>\n",
       "    <tr>\n",
       "      <th>12824</th>\n",
       "      <td>LOL! This group gets raided for suspicion of m...</td>\n",
       "      <td>0</td>\n",
       "    </tr>\n",
       "    <tr>\n",
       "      <th>11426</th>\n",
       "      <td>The social media director for Trump called the...</td>\n",
       "      <td>0</td>\n",
       "    </tr>\n",
       "    <tr>\n",
       "      <th>1760</th>\n",
       "      <td>The majority of America saw this coming: Trump...</td>\n",
       "      <td>0</td>\n",
       "    </tr>\n",
       "    <tr>\n",
       "      <th>7829</th>\n",
       "      <td>(Reuters) - Republican presidential nominee Do...</td>\n",
       "      <td>1</td>\n",
       "    </tr>\n",
       "  </tbody>\n",
       "</table>\n",
       "</div>"
      ],
      "text/plain": [
       "                                                    text  class\n",
       "4933   WASHINGTON (Reuters) - President Donald Trump’...      1\n",
       "12824  LOL! This group gets raided for suspicion of m...      0\n",
       "11426  The social media director for Trump called the...      0\n",
       "1760   The majority of America saw this coming: Trump...      0\n",
       "7829   (Reuters) - Republican presidential nominee Do...      1"
      ]
     },
     "execution_count": 19,
     "metadata": {},
     "output_type": "execute_result"
    }
   ],
   "source": [
    "df.head()"
   ]
  },
  {
   "cell_type": "code",
   "execution_count": 20,
   "id": "5d657b7d",
   "metadata": {
    "execution": {
     "iopub.execute_input": "2024-02-05T18:56:36.187912Z",
     "iopub.status.busy": "2024-02-05T18:56:36.187601Z",
     "iopub.status.idle": "2024-02-05T18:56:36.199361Z",
     "shell.execute_reply": "2024-02-05T18:56:36.197818Z"
    },
    "papermill": {
     "duration": 0.025229,
     "end_time": "2024-02-05T18:56:36.201861",
     "exception": false,
     "start_time": "2024-02-05T18:56:36.176632",
     "status": "completed"
    },
    "tags": []
   },
   "outputs": [],
   "source": [
    "df.reset_index(inplace = True)\n",
    "df.drop([\"index\"], axis = 1, inplace = True)"
   ]
  },
  {
   "cell_type": "code",
   "execution_count": 21,
   "id": "58241665",
   "metadata": {
    "execution": {
     "iopub.execute_input": "2024-02-05T18:56:36.224280Z",
     "iopub.status.busy": "2024-02-05T18:56:36.223921Z",
     "iopub.status.idle": "2024-02-05T18:56:36.231145Z",
     "shell.execute_reply": "2024-02-05T18:56:36.230093Z"
    },
    "papermill": {
     "duration": 0.020999,
     "end_time": "2024-02-05T18:56:36.233371",
     "exception": false,
     "start_time": "2024-02-05T18:56:36.212372",
     "status": "completed"
    },
    "tags": []
   },
   "outputs": [
    {
     "data": {
      "text/plain": [
       "Index(['text', 'class'], dtype='object')"
      ]
     },
     "execution_count": 21,
     "metadata": {},
     "output_type": "execute_result"
    }
   ],
   "source": [
    "df.columns"
   ]
  },
  {
   "cell_type": "code",
   "execution_count": 22,
   "id": "c5010f9b",
   "metadata": {
    "execution": {
     "iopub.execute_input": "2024-02-05T18:56:36.257667Z",
     "iopub.status.busy": "2024-02-05T18:56:36.257268Z",
     "iopub.status.idle": "2024-02-05T18:56:36.266641Z",
     "shell.execute_reply": "2024-02-05T18:56:36.265737Z"
    },
    "papermill": {
     "duration": 0.023756,
     "end_time": "2024-02-05T18:56:36.268607",
     "exception": false,
     "start_time": "2024-02-05T18:56:36.244851",
     "status": "completed"
    },
    "tags": []
   },
   "outputs": [
    {
     "data": {
      "text/html": [
       "<div>\n",
       "<style scoped>\n",
       "    .dataframe tbody tr th:only-of-type {\n",
       "        vertical-align: middle;\n",
       "    }\n",
       "\n",
       "    .dataframe tbody tr th {\n",
       "        vertical-align: top;\n",
       "    }\n",
       "\n",
       "    .dataframe thead th {\n",
       "        text-align: right;\n",
       "    }\n",
       "</style>\n",
       "<table border=\"1\" class=\"dataframe\">\n",
       "  <thead>\n",
       "    <tr style=\"text-align: right;\">\n",
       "      <th></th>\n",
       "      <th>text</th>\n",
       "      <th>class</th>\n",
       "    </tr>\n",
       "  </thead>\n",
       "  <tbody>\n",
       "    <tr>\n",
       "      <th>0</th>\n",
       "      <td>WASHINGTON (Reuters) - President Donald Trump’...</td>\n",
       "      <td>1</td>\n",
       "    </tr>\n",
       "    <tr>\n",
       "      <th>1</th>\n",
       "      <td>LOL! This group gets raided for suspicion of m...</td>\n",
       "      <td>0</td>\n",
       "    </tr>\n",
       "    <tr>\n",
       "      <th>2</th>\n",
       "      <td>The social media director for Trump called the...</td>\n",
       "      <td>0</td>\n",
       "    </tr>\n",
       "    <tr>\n",
       "      <th>3</th>\n",
       "      <td>The majority of America saw this coming: Trump...</td>\n",
       "      <td>0</td>\n",
       "    </tr>\n",
       "    <tr>\n",
       "      <th>4</th>\n",
       "      <td>(Reuters) - Republican presidential nominee Do...</td>\n",
       "      <td>1</td>\n",
       "    </tr>\n",
       "  </tbody>\n",
       "</table>\n",
       "</div>"
      ],
      "text/plain": [
       "                                                text  class\n",
       "0  WASHINGTON (Reuters) - President Donald Trump’...      1\n",
       "1  LOL! This group gets raided for suspicion of m...      0\n",
       "2  The social media director for Trump called the...      0\n",
       "3  The majority of America saw this coming: Trump...      0\n",
       "4  (Reuters) - Republican presidential nominee Do...      1"
      ]
     },
     "execution_count": 22,
     "metadata": {},
     "output_type": "execute_result"
    }
   ],
   "source": [
    "df.head()"
   ]
  },
  {
   "cell_type": "code",
   "execution_count": null,
   "id": "834350cb",
   "metadata": {
    "papermill": {
     "duration": 0.062867,
     "end_time": "2024-02-05T18:56:36.341605",
     "exception": false,
     "start_time": "2024-02-05T18:56:36.278738",
     "status": "completed"
    },
    "tags": []
   },
   "outputs": [],
   "source": []
  },
  {
   "cell_type": "markdown",
   "id": "51c8c3ff",
   "metadata": {
    "papermill": {
     "duration": 0.009961,
     "end_time": "2024-02-05T18:56:36.361780",
     "exception": false,
     "start_time": "2024-02-05T18:56:36.351819",
     "status": "completed"
    },
    "tags": []
   },
   "source": [
    "**Creating a function to process the texts**"
   ]
  },
  {
   "cell_type": "code",
   "execution_count": 23,
   "id": "dc53f5e9",
   "metadata": {
    "execution": {
     "iopub.execute_input": "2024-02-05T18:56:36.384896Z",
     "iopub.status.busy": "2024-02-05T18:56:36.384532Z",
     "iopub.status.idle": "2024-02-05T18:56:36.390948Z",
     "shell.execute_reply": "2024-02-05T18:56:36.389909Z"
    },
    "papermill": {
     "duration": 0.02086,
     "end_time": "2024-02-05T18:56:36.392764",
     "exception": false,
     "start_time": "2024-02-05T18:56:36.371904",
     "status": "completed"
    },
    "tags": []
   },
   "outputs": [],
   "source": [
    "def wordopt(text):\n",
    "    text = text.lower()\n",
    "    text = re.sub('\\[.*?\\]', '', text)\n",
    "    text = re.sub(\"\\\\W\",\" \",text) \n",
    "    text = re.sub('https?://\\S+|www\\.\\S+', '', text)\n",
    "    text = re.sub('<.*?>+', '', text)\n",
    "    text = re.sub('[%s]' % re.escape(string.punctuation), '', text)\n",
    "    text = re.sub('\\n', '', text)\n",
    "    text = re.sub('\\w*\\d\\w*', '', text)    \n",
    "    return text"
   ]
  },
  {
   "cell_type": "code",
   "execution_count": 24,
   "id": "fb72adaa",
   "metadata": {
    "execution": {
     "iopub.execute_input": "2024-02-05T18:56:36.415190Z",
     "iopub.status.busy": "2024-02-05T18:56:36.414849Z",
     "iopub.status.idle": "2024-02-05T18:56:53.232249Z",
     "shell.execute_reply": "2024-02-05T18:56:53.230701Z"
    },
    "papermill": {
     "duration": 16.831611,
     "end_time": "2024-02-05T18:56:53.234938",
     "exception": false,
     "start_time": "2024-02-05T18:56:36.403327",
     "status": "completed"
    },
    "tags": []
   },
   "outputs": [],
   "source": [
    "df[\"text\"] = df[\"text\"].apply(wordopt)"
   ]
  },
  {
   "cell_type": "markdown",
   "id": "88955559",
   "metadata": {
    "papermill": {
     "duration": 0.010329,
     "end_time": "2024-02-05T18:56:53.256032",
     "exception": false,
     "start_time": "2024-02-05T18:56:53.245703",
     "status": "completed"
    },
    "tags": []
   },
   "source": [
    "**Defining dependent and independent variables**"
   ]
  },
  {
   "cell_type": "code",
   "execution_count": 25,
   "id": "1d48eb57",
   "metadata": {
    "execution": {
     "iopub.execute_input": "2024-02-05T18:56:53.280539Z",
     "iopub.status.busy": "2024-02-05T18:56:53.280170Z",
     "iopub.status.idle": "2024-02-05T18:56:53.285632Z",
     "shell.execute_reply": "2024-02-05T18:56:53.284331Z"
    },
    "papermill": {
     "duration": 0.019677,
     "end_time": "2024-02-05T18:56:53.288008",
     "exception": false,
     "start_time": "2024-02-05T18:56:53.268331",
     "status": "completed"
    },
    "tags": []
   },
   "outputs": [],
   "source": [
    "x = df[\"text\"]\n",
    "y = df[\"class\"]"
   ]
  },
  {
   "cell_type": "markdown",
   "id": "457f4843",
   "metadata": {
    "papermill": {
     "duration": 0.010578,
     "end_time": "2024-02-05T18:56:53.309552",
     "exception": false,
     "start_time": "2024-02-05T18:56:53.298974",
     "status": "completed"
    },
    "tags": []
   },
   "source": [
    "**Splitting Training and Testing**"
   ]
  },
  {
   "cell_type": "code",
   "execution_count": 26,
   "id": "36eb6156",
   "metadata": {
    "execution": {
     "iopub.execute_input": "2024-02-05T18:56:53.333172Z",
     "iopub.status.busy": "2024-02-05T18:56:53.332644Z",
     "iopub.status.idle": "2024-02-05T18:56:53.342050Z",
     "shell.execute_reply": "2024-02-05T18:56:53.341370Z"
    },
    "papermill": {
     "duration": 0.023682,
     "end_time": "2024-02-05T18:56:53.343961",
     "exception": false,
     "start_time": "2024-02-05T18:56:53.320279",
     "status": "completed"
    },
    "tags": []
   },
   "outputs": [],
   "source": [
    "x_train, x_test, y_train, y_test = train_test_split(x, y, test_size=0.25)"
   ]
  },
  {
   "cell_type": "markdown",
   "id": "250490d5",
   "metadata": {
    "papermill": {
     "duration": 0.010291,
     "end_time": "2024-02-05T18:56:53.364614",
     "exception": false,
     "start_time": "2024-02-05T18:56:53.354323",
     "status": "completed"
    },
    "tags": []
   },
   "source": [
    "**Convert text to vectors**"
   ]
  },
  {
   "cell_type": "code",
   "execution_count": 27,
   "id": "9c800728",
   "metadata": {
    "execution": {
     "iopub.execute_input": "2024-02-05T18:56:53.387372Z",
     "iopub.status.busy": "2024-02-05T18:56:53.386929Z",
     "iopub.status.idle": "2024-02-05T18:57:05.488419Z",
     "shell.execute_reply": "2024-02-05T18:57:05.486925Z"
    },
    "papermill": {
     "duration": 12.115957,
     "end_time": "2024-02-05T18:57:05.491080",
     "exception": false,
     "start_time": "2024-02-05T18:56:53.375123",
     "status": "completed"
    },
    "tags": []
   },
   "outputs": [],
   "source": [
    "from sklearn.feature_extraction.text import TfidfVectorizer\n",
    "\n",
    "vectorization = TfidfVectorizer()\n",
    "xv_train = vectorization.fit_transform(x_train)\n",
    "xv_test = vectorization.transform(x_test)"
   ]
  },
  {
   "cell_type": "markdown",
   "id": "c093dd82",
   "metadata": {
    "papermill": {
     "duration": 0.010244,
     "end_time": "2024-02-05T18:57:05.512708",
     "exception": false,
     "start_time": "2024-02-05T18:57:05.502464",
     "status": "completed"
    },
    "tags": []
   },
   "source": [
    "**Logistic Regression**"
   ]
  },
  {
   "cell_type": "code",
   "execution_count": 28,
   "id": "f03bb8b0",
   "metadata": {
    "execution": {
     "iopub.execute_input": "2024-02-05T18:57:05.535834Z",
     "iopub.status.busy": "2024-02-05T18:57:05.535494Z",
     "iopub.status.idle": "2024-02-05T18:57:08.230074Z",
     "shell.execute_reply": "2024-02-05T18:57:08.229157Z"
    },
    "papermill": {
     "duration": 2.708698,
     "end_time": "2024-02-05T18:57:08.232019",
     "exception": false,
     "start_time": "2024-02-05T18:57:05.523321",
     "status": "completed"
    },
    "tags": []
   },
   "outputs": [
    {
     "data": {
      "text/html": [
       "<style>#sk-container-id-1 {color: black;background-color: white;}#sk-container-id-1 pre{padding: 0;}#sk-container-id-1 div.sk-toggleable {background-color: white;}#sk-container-id-1 label.sk-toggleable__label {cursor: pointer;display: block;width: 100%;margin-bottom: 0;padding: 0.3em;box-sizing: border-box;text-align: center;}#sk-container-id-1 label.sk-toggleable__label-arrow:before {content: \"▸\";float: left;margin-right: 0.25em;color: #696969;}#sk-container-id-1 label.sk-toggleable__label-arrow:hover:before {color: black;}#sk-container-id-1 div.sk-estimator:hover label.sk-toggleable__label-arrow:before {color: black;}#sk-container-id-1 div.sk-toggleable__content {max-height: 0;max-width: 0;overflow: hidden;text-align: left;background-color: #f0f8ff;}#sk-container-id-1 div.sk-toggleable__content pre {margin: 0.2em;color: black;border-radius: 0.25em;background-color: #f0f8ff;}#sk-container-id-1 input.sk-toggleable__control:checked~div.sk-toggleable__content {max-height: 200px;max-width: 100%;overflow: auto;}#sk-container-id-1 input.sk-toggleable__control:checked~label.sk-toggleable__label-arrow:before {content: \"▾\";}#sk-container-id-1 div.sk-estimator input.sk-toggleable__control:checked~label.sk-toggleable__label {background-color: #d4ebff;}#sk-container-id-1 div.sk-label input.sk-toggleable__control:checked~label.sk-toggleable__label {background-color: #d4ebff;}#sk-container-id-1 input.sk-hidden--visually {border: 0;clip: rect(1px 1px 1px 1px);clip: rect(1px, 1px, 1px, 1px);height: 1px;margin: -1px;overflow: hidden;padding: 0;position: absolute;width: 1px;}#sk-container-id-1 div.sk-estimator {font-family: monospace;background-color: #f0f8ff;border: 1px dotted black;border-radius: 0.25em;box-sizing: border-box;margin-bottom: 0.5em;}#sk-container-id-1 div.sk-estimator:hover {background-color: #d4ebff;}#sk-container-id-1 div.sk-parallel-item::after {content: \"\";width: 100%;border-bottom: 1px solid gray;flex-grow: 1;}#sk-container-id-1 div.sk-label:hover label.sk-toggleable__label {background-color: #d4ebff;}#sk-container-id-1 div.sk-serial::before {content: \"\";position: absolute;border-left: 1px solid gray;box-sizing: border-box;top: 0;bottom: 0;left: 50%;z-index: 0;}#sk-container-id-1 div.sk-serial {display: flex;flex-direction: column;align-items: center;background-color: white;padding-right: 0.2em;padding-left: 0.2em;position: relative;}#sk-container-id-1 div.sk-item {position: relative;z-index: 1;}#sk-container-id-1 div.sk-parallel {display: flex;align-items: stretch;justify-content: center;background-color: white;position: relative;}#sk-container-id-1 div.sk-item::before, #sk-container-id-1 div.sk-parallel-item::before {content: \"\";position: absolute;border-left: 1px solid gray;box-sizing: border-box;top: 0;bottom: 0;left: 50%;z-index: -1;}#sk-container-id-1 div.sk-parallel-item {display: flex;flex-direction: column;z-index: 1;position: relative;background-color: white;}#sk-container-id-1 div.sk-parallel-item:first-child::after {align-self: flex-end;width: 50%;}#sk-container-id-1 div.sk-parallel-item:last-child::after {align-self: flex-start;width: 50%;}#sk-container-id-1 div.sk-parallel-item:only-child::after {width: 0;}#sk-container-id-1 div.sk-dashed-wrapped {border: 1px dashed gray;margin: 0 0.4em 0.5em 0.4em;box-sizing: border-box;padding-bottom: 0.4em;background-color: white;}#sk-container-id-1 div.sk-label label {font-family: monospace;font-weight: bold;display: inline-block;line-height: 1.2em;}#sk-container-id-1 div.sk-label-container {text-align: center;}#sk-container-id-1 div.sk-container {/* jupyter's `normalize.less` sets `[hidden] { display: none; }` but bootstrap.min.css set `[hidden] { display: none !important; }` so we also need the `!important` here to be able to override the default hidden behavior on the sphinx rendered scikit-learn.org. See: https://github.com/scikit-learn/scikit-learn/issues/21755 */display: inline-block !important;position: relative;}#sk-container-id-1 div.sk-text-repr-fallback {display: none;}</style><div id=\"sk-container-id-1\" class=\"sk-top-container\"><div class=\"sk-text-repr-fallback\"><pre>LogisticRegression()</pre><b>In a Jupyter environment, please rerun this cell to show the HTML representation or trust the notebook. <br />On GitHub, the HTML representation is unable to render, please try loading this page with nbviewer.org.</b></div><div class=\"sk-container\" hidden><div class=\"sk-item\"><div class=\"sk-estimator sk-toggleable\"><input class=\"sk-toggleable__control sk-hidden--visually\" id=\"sk-estimator-id-1\" type=\"checkbox\" checked><label for=\"sk-estimator-id-1\" class=\"sk-toggleable__label sk-toggleable__label-arrow\">LogisticRegression</label><div class=\"sk-toggleable__content\"><pre>LogisticRegression()</pre></div></div></div></div></div>"
      ],
      "text/plain": [
       "LogisticRegression()"
      ]
     },
     "execution_count": 28,
     "metadata": {},
     "output_type": "execute_result"
    }
   ],
   "source": [
    "from sklearn.linear_model import LogisticRegression\n",
    "\n",
    "LR = LogisticRegression()\n",
    "LR.fit(xv_train,y_train)"
   ]
  },
  {
   "cell_type": "code",
   "execution_count": 29,
   "id": "52e49564",
   "metadata": {
    "execution": {
     "iopub.execute_input": "2024-02-05T18:57:08.274810Z",
     "iopub.status.busy": "2024-02-05T18:57:08.274481Z",
     "iopub.status.idle": "2024-02-05T18:57:08.284201Z",
     "shell.execute_reply": "2024-02-05T18:57:08.283511Z"
    },
    "papermill": {
     "duration": 0.035004,
     "end_time": "2024-02-05T18:57:08.286100",
     "exception": false,
     "start_time": "2024-02-05T18:57:08.251096",
     "status": "completed"
    },
    "tags": []
   },
   "outputs": [],
   "source": [
    "pred_lr=LR.predict(xv_test)"
   ]
  },
  {
   "cell_type": "code",
   "execution_count": 30,
   "id": "b34ed15c",
   "metadata": {
    "execution": {
     "iopub.execute_input": "2024-02-05T18:57:08.314519Z",
     "iopub.status.busy": "2024-02-05T18:57:08.314177Z",
     "iopub.status.idle": "2024-02-05T18:57:08.326518Z",
     "shell.execute_reply": "2024-02-05T18:57:08.325699Z"
    },
    "papermill": {
     "duration": 0.028482,
     "end_time": "2024-02-05T18:57:08.328163",
     "exception": false,
     "start_time": "2024-02-05T18:57:08.299681",
     "status": "completed"
    },
    "tags": []
   },
   "outputs": [
    {
     "data": {
      "text/plain": [
       "0.9871657754010695"
      ]
     },
     "execution_count": 30,
     "metadata": {},
     "output_type": "execute_result"
    }
   ],
   "source": [
    "LR.score(xv_test, y_test)"
   ]
  },
  {
   "cell_type": "code",
   "execution_count": 31,
   "id": "403d96e5",
   "metadata": {
    "execution": {
     "iopub.execute_input": "2024-02-05T18:57:08.350880Z",
     "iopub.status.busy": "2024-02-05T18:57:08.350278Z",
     "iopub.status.idle": "2024-02-05T18:57:08.671045Z",
     "shell.execute_reply": "2024-02-05T18:57:08.669788Z"
    },
    "papermill": {
     "duration": 0.333536,
     "end_time": "2024-02-05T18:57:08.672262",
     "exception": true,
     "start_time": "2024-02-05T18:57:08.338726",
     "status": "failed"
    },
    "tags": []
   },
   "outputs": [
    {
     "ename": "NameError",
     "evalue": "name 'pred_gbc' is not defined",
     "output_type": "error",
     "traceback": [
      "\u001b[0;31m---------------------------------------------------------------------------\u001b[0m",
      "\u001b[0;31mNameError\u001b[0m                                 Traceback (most recent call last)",
      "Cell \u001b[0;32mIn[31], line 1\u001b[0m\n\u001b[0;32m----> 1\u001b[0m \u001b[38;5;28mprint\u001b[39m(classification_report(y_test, \u001b[43mpred_gbc\u001b[49m))\n",
      "\u001b[0;31mNameError\u001b[0m: name 'pred_gbc' is not defined"
     ]
    }
   ],
   "source": [
    "print(classification_report(y_test, pred_gbc))"
   ]
  },
  {
   "cell_type": "code",
   "execution_count": null,
   "id": "910a2376",
   "metadata": {
    "papermill": {
     "duration": null,
     "end_time": null,
     "exception": null,
     "start_time": null,
     "status": "pending"
    },
    "tags": []
   },
   "outputs": [],
   "source": []
  },
  {
   "cell_type": "markdown",
   "id": "a7c72fa6",
   "metadata": {
    "papermill": {
     "duration": null,
     "end_time": null,
     "exception": null,
     "start_time": null,
     "status": "pending"
    },
    "tags": []
   },
   "source": []
  }
 ],
 "metadata": {
  "kaggle": {
   "accelerator": "none",
   "dataSources": [
    {
     "datasetId": 4180521,
     "sourceId": 7222412,
     "sourceType": "datasetVersion"
    }
   ],
   "dockerImageVersionId": 30646,
   "isGpuEnabled": false,
   "isInternetEnabled": false,
   "language": "python",
   "sourceType": "notebook"
  },
  "kernelspec": {
   "display_name": "Python 3",
   "language": "python",
   "name": "python3"
  },
  "language_info": {
   "codemirror_mode": {
    "name": "ipython",
    "version": 3
   },
   "file_extension": ".py",
   "mimetype": "text/x-python",
   "name": "python",
   "nbconvert_exporter": "python",
   "pygments_lexer": "ipython3",
   "version": "3.10.13"
  },
  "papermill": {
   "default_parameters": {},
   "duration": 42.848418,
   "end_time": "2024-02-05T18:57:09.403396",
   "environment_variables": {},
   "exception": true,
   "input_path": "__notebook__.ipynb",
   "output_path": "__notebook__.ipynb",
   "parameters": {},
   "start_time": "2024-02-05T18:56:26.554978",
   "version": "2.5.0"
  }
 },
 "nbformat": 4,
 "nbformat_minor": 5
}
